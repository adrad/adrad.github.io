{
 "cells": [
  {
   "cell_type": "code",
   "execution_count": 154,
   "metadata": {},
   "outputs": [],
   "source": [
    "import pickle\n",
    "import pandas as pd\n",
    "import numpy as np"
   ]
  },
  {
   "cell_type": "code",
   "execution_count": 155,
   "metadata": {},
   "outputs": [],
   "source": [
    "memory = pickle.load(open(\"memory.p\", \"rb\"))"
   ]
  },
  {
   "cell_type": "code",
   "execution_count": 156,
   "metadata": {},
   "outputs": [
    {
     "name": "stdout",
     "output_type": "stream",
     "text": [
      "world states that are 1/0:  14\n",
      "+1 hp state\n"
     ]
    }
   ],
   "source": [
    "objmondict = ['none','rabbit', 'raccoon']\n",
    "#exitdict = ['north', 'east', 'south', 'west']\n",
    "room_name_dict = ['none','Limbo', 'Love', 'Brownhaven', 'Alley', 'Pawn', 'Path ', 'Petting']\n",
    "#actiondict = ['none', 'north', 'east', 'south', 'west','killrabbit', 'killraccoon',  'look']\n",
    "hostiledict = ['none','hrabbit','hraccoon']\n",
    "\n",
    "\n",
    "'''state_array = np.concatenate((hp_encoded,\n",
    "\t\t\t\t\t\t\t\t\t  room_matrix,\n",
    "\t\t\t\t\t\t\t\t\t                              #sum_exit_matrix,\n",
    "\t\t\t\t\t\t\t\t\t  sum_objmon_matrix,\n",
    "\t\t\t\t\t\t\t\t\t  sum_hostile_matrix\n",
    "\t\t\t\t\t\t\t\t\t  ),\n",
    "\t\t\t\t\t\t\t\t\t axis=0)'''\n",
    "\n",
    "dictlist = room_name_dict+objmondict+hostiledict\n",
    "print('world states that are 1/0: ',len(dictlist))\n",
    "print('+1 hp state')\n",
    "\n",
    "s=state[0][1:].tolist()"
   ]
  },
  {
   "cell_type": "code",
   "execution_count": 157,
   "metadata": {},
   "outputs": [],
   "source": [
    "def parse_state(state,statedictlist):\n",
    "    print('hp:',state[0][0])\n",
    "    s = state[0][1:].tolist()\n",
    "    nonzeroindices=[i for i, e in enumerate(s) if e == 1.0]\n",
    "    for i in nonzeroindices:\n",
    "        print(dictlist[i])\n",
    "    "
   ]
  },
  {
   "cell_type": "code",
   "execution_count": 158,
   "metadata": {},
   "outputs": [
    {
     "name": "stdout",
     "output_type": "stream",
     "text": [
      "------\n",
      "hp: 0.0\n",
      "------\n",
      "hp: 0.144\n",
      "Brownhaven\n",
      "------\n",
      "hp: 0.12\n",
      "Brownhaven\n",
      "------\n",
      "hp: 0.12\n",
      "Brownhaven\n",
      "rabbit\n",
      "hrabbit\n",
      "------\n",
      "hp: 0.096\n",
      "Brownhaven\n",
      "------\n",
      "hp: 0.096\n",
      "Brownhaven\n",
      "rabbit\n",
      "hrabbit\n",
      "------\n",
      "hp: 0.096\n",
      "Brownhaven\n",
      "rabbit\n",
      "hrabbit\n",
      "------\n",
      "hp: 0.096\n",
      "Brownhaven\n",
      "rabbit\n",
      "hrabbit\n"
     ]
    }
   ],
   "source": [
    "#view all memory\n",
    "for i in np.arange(len(memory)):\n",
    "    (state, actionindex, reward, state2, done)=memory[i]\n",
    "    print('------')\n",
    "    parse_state(state,dictlist)"
   ]
  },
  {
   "cell_type": "code",
   "execution_count": null,
   "metadata": {},
   "outputs": [],
   "source": []
  },
  {
   "cell_type": "code",
   "execution_count": null,
   "metadata": {},
   "outputs": [],
   "source": []
  },
  {
   "cell_type": "code",
   "execution_count": null,
   "metadata": {},
   "outputs": [],
   "source": []
  }
 ],
 "metadata": {
  "kernelspec": {
   "display_name": "Python 3",
   "language": "python",
   "name": "python3"
  },
  "language_info": {
   "codemirror_mode": {
    "name": "ipython",
    "version": 3
   },
   "file_extension": ".py",
   "mimetype": "text/x-python",
   "name": "python",
   "nbconvert_exporter": "python",
   "pygments_lexer": "ipython3",
   "version": "3.6.10"
  }
 },
 "nbformat": 4,
 "nbformat_minor": 4
}
